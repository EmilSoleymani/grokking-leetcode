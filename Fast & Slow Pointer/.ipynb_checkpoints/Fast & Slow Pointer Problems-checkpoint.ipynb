{
 "cells": [
  {
   "cell_type": "markdown",
   "id": "891950e7",
   "metadata": {},
   "source": [
    "# Fast & Slow Pointer Leetcode Problems\n",
    "\n",
    "This notebook shows solutions to common Leetcode `fast` and `slow` pointers."
   ]
  },
  {
   "cell_type": "code",
   "execution_count": 5,
   "id": "a5f16d89",
   "metadata": {},
   "outputs": [],
   "source": [
    "from typing import List, Optional"
   ]
  },
  {
   "cell_type": "code",
   "execution_count": 6,
   "id": "08060e59",
   "metadata": {},
   "outputs": [],
   "source": [
    "# Definition for singly-linked list used in many problems below.\n",
    "class ListNode:\n",
    "    def __init__(self, x):\n",
    "        self.val = x\n",
    "        self.next = None"
   ]
  },
  {
   "cell_type": "markdown",
   "id": "7948511f",
   "metadata": {},
   "source": [
    "# Problem 1:  Linked List Cycle\n",
    "\n",
    "[Leetcode #141](https://leetcode.com/problems/linked-list-cycle/)\n",
    "\n",
    "Given `head`, the head of a linked list, determine if the linked list has a cycle in it.\n",
    "\n",
    "There is a cycle in a linked list if there is some node in the list that can be reached again by continuously following the next pointer. Internally, `pos` is used to denote the index of the node that tail's next pointer is connected to. Note that `pos` is not passed as a parameter.\n",
    "\n",
    "Return `true` if there is a cycle in the linked list. Otherwise, return `false`."
   ]
  },
  {
   "cell_type": "markdown",
   "id": "7034010a",
   "metadata": {},
   "source": [
    "## Solution\n",
    "\n",
    "The solution requires a `fast` and `slow` pointer. First check that `head` and `head.next` are not `Null` as edge cases. Start `slow` at `head` and `fast` at `head.next`. While `slow != fast`, if `fast` has a next and `fast.next` has a next, set `fast` to `fast.next.next`, else return `False` since the `fast` pointer has reached the end of the linked list without reaching any cycles. Also set `slow` to `slow.next`. If the while loop terminates, return `True`.\n",
    "\n",
    "```algorithm\n",
    "hasCycle(head):\n",
    "    if head == null || head.next == null:\n",
    "        return False\n",
    "    \n",
    "    slow, fast := head, head.next\n",
    "    \n",
    "    while slow != fast:\n",
    "        if fast.next = null || fast.next.next = null:\n",
    "            return False\n",
    "        fast := fast.next.next\n",
    "        slow := slow.next\n",
    "    \n",
    "    return True\n",
    "```"
   ]
  },
  {
   "cell_type": "code",
   "execution_count": 7,
   "id": "432fc7b8",
   "metadata": {},
   "outputs": [],
   "source": [
    "def hasCycle(head: Optional[ListNode]) -> bool:\n",
    "        if not head or not head.next:\n",
    "            return False\n",
    "\n",
    "        slow = head\n",
    "        fast = head.next\n",
    "\n",
    "        while slow is not fast:\n",
    "            if not fast.next or not fast.next.next:\n",
    "                return False\n",
    "            \n",
    "            slow = slow.next\n",
    "            fast = fast.next.next\n",
    "\n",
    "        return True"
   ]
  },
  {
   "cell_type": "code",
   "execution_count": 8,
   "id": "b254dc2e",
   "metadata": {},
   "outputs": [
    {
     "data": {
      "text/plain": [
       "True"
      ]
     },
     "execution_count": 8,
     "metadata": {},
     "output_type": "execute_result"
    }
   ],
   "source": [
    "head = ListNode(4)\n",
    "head.next = ListNode(4)\n",
    "head.next.next = ListNode(5)\n",
    "head.next.next.next = head.next\n",
    "hasCycle(head)"
   ]
  },
  {
   "cell_type": "markdown",
   "id": "62b49921",
   "metadata": {},
   "source": [
    "# Problem 2: Linked List Cycle II\n",
    "\n",
    "[Leetcode #142](https://leetcode.com/problems/linked-list-cycle-ii/)\n",
    "\n",
    "Given the `head` of a linked list, return the node where the cycle begins. If there is no cycle, return `null`.\n",
    "\n",
    "There is a cycle in a linked list if there is some node in the list that can be reached again by continuously following the `next` pointer. Internally, `pos` is used to denote the index of the node that tail's `next` pointer is connected to (0-indexed). It is `-1` if there is no cycle. Note that `pos` is not passed as a parameter.\n",
    "\n",
    "**Do not modify the linked list.**"
   ]
  },
  {
   "cell_type": "markdown",
   "id": "79985f55",
   "metadata": {},
   "source": [
    "## Solution\n",
    "\n",
    "Once again we will do this by keeping `fast` and `slow` pointers. First check if `head` or `head.next` are `null` and return `null`. Initialize `slow` and `fast` to `head`. Initialize `seen` to `False` so we can keep track if we have made an initial move (since we will be checking `slow != fast` but `slow` and `fast` are both initially `head`). While `slow != fast || !seen` if `fast.next` or `fast.next.next` are `null` return `null` since our fast pointer has reached the end of the list without reaching a cycle, else set `fast` to `fast.next.next` and `slow` to `slow.next`. Also set `seen` to `True`. We now have the point at which the `fast` and `slow` pointer intersected. This means we know there is a cycle. Now if we start a new pointer, `start`, at `head` again, and another pointer back at the intersection point and move them at the same pace their intersection point is the node where the cycle begins. So, while `start != fast` set `start` to `start.next` and `fast` to `fast.next`. Return `fast` (or `start`, they point to the same node).\n",
    "\n",
    "```algorithm\n",
    "detectCycle(head):\n",
    "    if head == null || head.next == null:\n",
    "        return null\n",
    "        \n",
    "    slow, fast := head, head\n",
    "    seen := False\n",
    "    \n",
    "    while slow != fast || !seen:\n",
    "        if fast.next == null || fast.next.next == null:\n",
    "            return null\n",
    "        fast := fast.next.next\n",
    "        slow := slow.next\n",
    "        seen := True\n",
    "   \n",
    "   start := head\n",
    "   \n",
    "   while start != fast:\n",
    "       start := start.next\n",
    "       fast := fast.next\n",
    "   \n",
    "   return fast\n",
    "```"
   ]
  },
  {
   "cell_type": "code",
   "execution_count": 9,
   "id": "7a0738e8",
   "metadata": {},
   "outputs": [],
   "source": [
    "def detectCycle(head: Optional[ListNode]) -> Optional[ListNode]:\n",
    "        if not head or not head.next:\n",
    "            return None\n",
    "\n",
    "        slow = head\n",
    "        fast = head\n",
    "        seen = False\n",
    "\n",
    "        while slow is not fast or not seen:\n",
    "            seen = True\n",
    "            if not fast.next or not fast.next.next:\n",
    "                return None\n",
    "            slow = slow.next\n",
    "            fast = fast.next.next\n",
    "\n",
    "        \n",
    "        start = head\n",
    "\n",
    "        while start is not fast:\n",
    "            start = start.next\n",
    "            fast = fast.next\n",
    "        \n",
    "        return fast"
   ]
  },
  {
   "cell_type": "code",
   "execution_count": 12,
   "id": "93a3ff72",
   "metadata": {},
   "outputs": [
    {
     "data": {
      "text/plain": [
       "4"
      ]
     },
     "execution_count": 12,
     "metadata": {},
     "output_type": "execute_result"
    }
   ],
   "source": [
    "head = ListNode(2)\n",
    "head.next = ListNode(4)\n",
    "head.next.next = ListNode(5)\n",
    "head.next.next.next = head.next\n",
    "detectCycle(head).val"
   ]
  },
  {
   "cell_type": "markdown",
   "id": "8df87855",
   "metadata": {},
   "source": [
    "# Problem 3: Happy Number\n",
    "\n",
    "[Leetcode #202](https://leetcode.com/problems/happy-number/)\n",
    "\n",
    "Write an algorithm to determine if a number `n` is happy.\n",
    "\n",
    "A *happy number* is a number defined by the following process: \n",
    "\n",
    "Starting with any positive integer, replace the number by the sum of the squares of its digits.\n",
    "Repeat the process until the number equals `1` (where it will stay), or it loops endlessly in a cycle which does not include `1`. \n",
    "Those numbers for which this process ends in `1` are happy. \n",
    "Return `true` if `n` is a happy number, and `false` if not."
   ]
  },
  {
   "cell_type": "markdown",
   "id": "9b183c86",
   "metadata": {},
   "source": [
    "## Solution\n",
    "\n",
    "Since this problem is not set up as a LinkedList it may be hard to see that we are just detecting if we end up in a cycle before reaching one. Instead of having ListNodes with pointers to `next`, we will have a function `getNext(n)` which returns the sum of the square of all the digits of `n`. This takes us to our \"next\" node based on the deifnition of the problem. Given this function, it becomes a simple `fast` and `slow` pointer problem. Initialize `slow` to `n` and `fast` to `getNext(n)`. We need to loop until `fast` becomes `1` (where we want to return `true`) or until `slow` and `fast` are equal (a cycle is detected). So we can formulate this as while `fast != 1 || slow != fast` set `slow` to `getNext(slow)` and set `fast` to `getNext(getNext(fast))`. Once this loop terminates, we return `True` iff `fast == 1`, else a cycle was detected (i.e. `1` could never be reached).\n",
    "\n",
    "```algorithm\n",
    "getNext(n):\n",
    "    sum := 0\n",
    "    \n",
    "    while n > 0:\n",
    "        d := n % 10\n",
    "        n := floor(n/10)\n",
    "        sum := sum + d*d\n",
    "    \n",
    "    return sum\n",
    "\n",
    "isHappy(n):\n",
    "    slow, fast := n, getNext(n)\n",
    "    \n",
    "    while fast != 1 || slow != fast:\n",
    "        slow := getNext(slow)\n",
    "        fast := getNext(getNext(fast))\n",
    "    \n",
    "    return fast == 1\n",
    "```"
   ]
  },
  {
   "cell_type": "code",
   "execution_count": 13,
   "id": "53687e08",
   "metadata": {},
   "outputs": [],
   "source": [
    "def isHappy(n: int) -> bool:\n",
    "        def getNext(num):\n",
    "            s = 0\n",
    "            while num > 0:\n",
    "                d = num % 10\n",
    "                s += d ** 2\n",
    "                num = num // 10\n",
    "\n",
    "            return s\n",
    "\n",
    "        slow = n\n",
    "        fast = getNext(n)\n",
    "\n",
    "        while fast != 1 and slow != fast:\n",
    "            slow = getNext(slow)\n",
    "            fast = getNext(getNext(fast))\n",
    "        \n",
    "        return fast == 1 "
   ]
  },
  {
   "cell_type": "code",
   "execution_count": 18,
   "id": "a99cc107",
   "metadata": {},
   "outputs": [
    {
     "data": {
      "text/plain": [
       "True"
      ]
     },
     "execution_count": 18,
     "metadata": {},
     "output_type": "execute_result"
    }
   ],
   "source": [
    "isHappy(7)"
   ]
  },
  {
   "cell_type": "code",
   "execution_count": 15,
   "id": "9597afac",
   "metadata": {},
   "outputs": [
    {
     "data": {
      "text/plain": [
       "False"
      ]
     },
     "execution_count": 15,
     "metadata": {},
     "output_type": "execute_result"
    }
   ],
   "source": [
    "isHappy(2)"
   ]
  },
  {
   "cell_type": "code",
   "execution_count": 17,
   "id": "84db8c50",
   "metadata": {},
   "outputs": [
    {
     "data": {
      "text/plain": [
       "True"
      ]
     },
     "execution_count": 17,
     "metadata": {},
     "output_type": "execute_result"
    }
   ],
   "source": [
    "isHappy(19)"
   ]
  },
  {
   "cell_type": "markdown",
   "id": "79288824",
   "metadata": {},
   "source": [
    "# Problem 4: Middle of a Linked List\n",
    "\n",
    "[Leetcode #876](https://leetcode.com/problems/middle-of-the-linked-list/)\n",
    "\n",
    "Given the `head` of a singly linked list, return the middle node of the linked list.\n",
    "\n",
    "If there are two middle nodes, return the second middle node."
   ]
  },
  {
   "cell_type": "markdown",
   "id": "18e90ec4",
   "metadata": {},
   "source": [
    "## Solution\n",
    "\n",
    "Keep two pointers `slow` and `fast` both initialized to `head`. While `fast != null && fast.next != null` set `slow` to `slow.next` and set `fast` to `fast.next.next`. Once the loop breaks, if `fast.next != null` then it was an even length list, and we need to return `slow.next` as the middle (since question says *\"return the second middle node\"*), else just return `slow` since it is an odd lenght list and the middle is exatly `slow`.\n",
    "\n",
    "\n",
    "```algorithm\n",
    "middleNode(head):\n",
    "    fast, slow := head, head\n",
    "    \n",
    "    while fast != null && fast.next != null:\n",
    "        fast := fast.next.next\n",
    "        slow := slow.next\n",
    "    \n",
    "    if fast.next != null:\n",
    "        return slow.next\n",
    "    else:\n",
    "        return slow\n",
    "```"
   ]
  },
  {
   "cell_type": "code",
   "execution_count": 19,
   "id": "fd6e60a5",
   "metadata": {},
   "outputs": [],
   "source": [
    "def middleNode(head: Optional[ListNode]) -> Optional[ListNode]:\n",
    "        slow = head\n",
    "        fast = head\n",
    "\n",
    "\n",
    "        while fast.next and fast.next.next:\n",
    "            slow = slow.next\n",
    "            fast = fast.next.next\n",
    "\n",
    "        return slow.next if fast.next else slow"
   ]
  },
  {
   "cell_type": "code",
   "execution_count": 20,
   "id": "aee0d8b3",
   "metadata": {},
   "outputs": [
    {
     "data": {
      "text/plain": [
       "2"
      ]
     },
     "execution_count": 20,
     "metadata": {},
     "output_type": "execute_result"
    }
   ],
   "source": [
    "head = ListNode(1)\n",
    "head.next = ListNode(2)\n",
    "head.next.next = ListNode(2)\n",
    "head.next.next.next = ListNode(1)\n",
    "middleNode(head).val"
   ]
  },
  {
   "cell_type": "markdown",
   "id": "68e35895",
   "metadata": {},
   "source": [
    "# Problem 5: Palindrome Linked List\n",
    "\n",
    "[Leetcode #234](https://leetcode.com/problems/palindrome-linked-list/description/)\n",
    "\n",
    "Given the head of a singly linked list, return `true` if it is a palindrome or `false` otherwise."
   ]
  },
  {
   "cell_type": "markdown",
   "id": "bfa6fd50",
   "metadata": {},
   "source": [
    "## Solution\n",
    "\n",
    "The solution consists of 3 steps:\n",
    "\n",
    "1. Find the middle of the linked list (See *Problem 4*)\n",
    "2. Reverse the second half of the linked list (See *Reversing a Linked List in place)\n",
    "3. Check if two halves are the same\n",
    "\n",
    "To find the middle, set two pointers `slow` and `fast` to `head`. While `fast != null && fast.next != null` set `fast` to `fast.next.next` and `slow` to `slow.next`. Upon termination of this loop, `slow` is pointing to the middle of the linked list. Now we must reverse the second half. Set `prev` to `null`. While `slow`,  set `currNode` to `slow`, `slow` to `slow.next`, `currNode.next` to `prev` and `prev` to `currNode`. Now, set pointers `left` and `right` to `head` and `prev`. While `right`, if `left != right`, return `False`. Set `left` to `left.next` and `right` to `right.next`. If the loop terminates, it was a valid palindrome and thus return `True`.\n",
    "\n",
    "```algorithm\n",
    "isPalindrome(head):\n",
    "    slow, fast := head, head\n",
    "    \n",
    "    while fast != null && fast.next != null:\n",
    "        fast := fast.next.next\n",
    "        slow := slow.next.next\n",
    "    \n",
    "    prev := null\n",
    "    \n",
    "    while slow:\n",
    "        currNode := slow\n",
    "        slow := slow.next\n",
    "        currNode.next := prev\n",
    "        prev := currNode\n",
    "        \n",
    "    left, right := head, prev\n",
    "    \n",
    "    while right != null:\n",
    "        if left != right:\n",
    "            return False\n",
    "        left := left + 1\n",
    "        right := right + 1\n",
    "    \n",
    "    return True\n",
    "```"
   ]
  },
  {
   "cell_type": "code",
   "execution_count": 21,
   "id": "f9e45e75",
   "metadata": {},
   "outputs": [],
   "source": [
    "def isPalindrome(head: Optional[ListNode]) -> bool:\n",
    "        # !. Find the middle\n",
    "        slow = head\n",
    "        fast = head\n",
    "\n",
    "        while fast and fast.next:\n",
    "            slow = slow.next\n",
    "            fast = fast.next.next\n",
    "        \n",
    "        # 2. Reverse second half\n",
    "        prev = None\n",
    "\n",
    "        while slow:\n",
    "            currNode = slow\n",
    "            slow = slow.next\n",
    "            currNode.next = prev\n",
    "            prev = currNode\n",
    "        \n",
    "        # 3. Compare halves\n",
    "        left, right = head, prev\n",
    "        while right:\n",
    "            if left.val != right.val:\n",
    "                return False\n",
    "            left = left.next\n",
    "            right = right.next\n",
    "        \n",
    "        return True"
   ]
  },
  {
   "cell_type": "markdown",
   "id": "ca7aa8d5",
   "metadata": {},
   "source": [
    "# Problem 6: Reorder List\n",
    "\n",
    "[Leetcode #143](https://leetcode.com/problems/reorder-list/description/)"
   ]
  },
  {
   "cell_type": "markdown",
   "id": "d6d80a97",
   "metadata": {},
   "source": [
    "The solution consists of 3 steps:\n",
    "\n",
    "1. Find the middle of the linked list (See *Problem 4*)\n",
    "2. Reverse the second half of the linked list (See *Reversing a Linked List in place)\n",
    "3. Merge two halves\n",
    "\n",
    "To find the middle, set two pointers `slow` and `fast` to `head`. While `fast != null && fast.next != null` set `fast` to `fast.next.next` and `slow` to `slow.next`. Upon termination of this loop, `slow` is pointing to the middle of the linked list. Now we must reverse the second half. Set `prev` to `null`. While `slow`,  set `currNode` to `slow`, `slow` to `slow.next`, `currNode.next` to `prev` and `prev` to `currNode`. Now, set pointers `first` and `second` to `head` and `prev`. While `second`, set `first` and `first.next` to `first.next` and `second` (**atomically**!), then set `second` and `second.next` to `second.next` and `first`(**atomically**!).\n",
    "\n",
    "```algorithm\n",
    "isPalindrome(head):\n",
    "    slow, fast := head, head\n",
    "    \n",
    "    while fast != null && fast.next != null:\n",
    "        fast := fast.next.next\n",
    "        slow := slow.next.next\n",
    "    \n",
    "    prev := null\n",
    "    \n",
    "    while slow:\n",
    "        currNode := slow\n",
    "        slow := slow.next\n",
    "        currNode.next := prev\n",
    "        prev := currNode\n",
    "        \n",
    "    first, second := head, prev\n",
    "    \n",
    "    while second:\n",
    "        first, first.next := first.next, second\n",
    "        second, second.next := second.next, first\n",
    "```"
   ]
  },
  {
   "cell_type": "code",
   "execution_count": 22,
   "id": "71d75c51",
   "metadata": {},
   "outputs": [],
   "source": [
    "def reorderList(head: Optional[ListNode]) -> None:\n",
    "        \"\"\"\n",
    "        Do not return anything, modify head in-place instead.\n",
    "        \"\"\"\n",
    "        # Find middle\n",
    "        slow, fast = head, head\n",
    "\n",
    "        while fast and fast.next:\n",
    "            slow = slow.next\n",
    "            fast = fast.next.next\n",
    "        \n",
    "        # Reverse second half\n",
    "        prev = None\n",
    "        while slow:\n",
    "            currNode = slow\n",
    "            slow = slow.next\n",
    "            currNode.next = prev\n",
    "            prev = currNode\n",
    "\n",
    "        # Starting at head and middle, reorder pointers\n",
    "        first, second = head, prev\n",
    "\n",
    "        while second.next:\n",
    "            first.next, first = second, first.next\n",
    "            second.next, second = first, second.next"
   ]
  }
 ],
 "metadata": {
  "kernelspec": {
   "display_name": "Python 3 (ipykernel)",
   "language": "python",
   "name": "python3"
  },
  "language_info": {
   "codemirror_mode": {
    "name": "ipython",
    "version": 3
   },
   "file_extension": ".py",
   "mimetype": "text/x-python",
   "name": "python",
   "nbconvert_exporter": "python",
   "pygments_lexer": "ipython3",
   "version": "3.8.0"
  }
 },
 "nbformat": 4,
 "nbformat_minor": 5
}
