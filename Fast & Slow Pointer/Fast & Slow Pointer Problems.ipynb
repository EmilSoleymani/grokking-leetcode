{
 "cells": [
  {
   "cell_type": "markdown",
   "id": "891950e7",
   "metadata": {},
   "source": [
    "# Fast & Slow Pointer Leetcode Problems\n",
    "\n",
    "This notebook shows solutions to common Leetcode `fast` and `slow` pointers."
   ]
  },
  {
   "cell_type": "code",
   "execution_count": 5,
   "id": "7f1738fc",
   "metadata": {},
   "outputs": [],
   "source": [
    "from typing import List, Optional"
   ]
  },
  {
   "cell_type": "code",
   "execution_count": 6,
   "id": "a584f91d",
   "metadata": {},
   "outputs": [],
   "source": [
    "# Definition for singly-linked list used in many problems below.\n",
    "class ListNode:\n",
    "    def __init__(self, x):\n",
    "        self.val = x\n",
    "        self.next = None"
   ]
  },
  {
   "cell_type": "markdown",
   "id": "f96ec182",
   "metadata": {},
   "source": [
    "# Problem 1:  Linked List Cycle\n",
    "\n",
    "Given `head`, the head of a linked list, determine if the linked list has a cycle in it.\n",
    "\n",
    "There is a cycle in a linked list if there is some node in the list that can be reached again by continuously following the next pointer. Internally, `pos` is used to denote the index of the node that tail's next pointer is connected to. Note that `pos` is not passed as a parameter.\n",
    "\n",
    "Return `true` if there is a cycle in the linked list. Otherwise, return `false`."
   ]
  },
  {
   "cell_type": "markdown",
   "id": "99dadafc",
   "metadata": {},
   "source": [
    "## Solution\n",
    "\n",
    "The solution requires a `fast` and `slow` pointer. First check that `head` and `head.next` are not `Null` as edge cases. Start `slow` at `head` and `fast` at `head.next`. While `slow != fast`, if `fast` has a next and `fast.next` has a next, set `fast` to `fast.next.next`, else return `False` since the `fast` pointer has reached the end of the linked list without reaching any cycles. Also set `slow` to `slow.next`. If the while loop terminates, return `True`.\n",
    "\n",
    "```algorithm\n",
    "hasCycle(head):\n",
    "    if head == null || head.next == null:\n",
    "        return False\n",
    "    \n",
    "    slow, fast := head, head.next\n",
    "    \n",
    "    while slow != fast:\n",
    "        if fast.next = null || fast.next.next = null:\n",
    "            return False\n",
    "        fast := fast.next.next\n",
    "        slow := slow.next\n",
    "    \n",
    "    return True\n",
    "```"
   ]
  },
  {
   "cell_type": "code",
   "execution_count": 7,
   "id": "23948aee",
   "metadata": {},
   "outputs": [],
   "source": [
    "def hasCycle(head: Optional[ListNode]) -> bool:\n",
    "        if not head or not head.next:\n",
    "            return False\n",
    "\n",
    "        slow = head\n",
    "        fast = head.next\n",
    "\n",
    "        while slow is not fast:\n",
    "            if not fast.next or not fast.next.next:\n",
    "                return False\n",
    "            \n",
    "            slow = slow.next\n",
    "            fast = fast.next.next\n",
    "\n",
    "        return True"
   ]
  },
  {
   "cell_type": "code",
   "execution_count": 8,
   "id": "49ebdba6",
   "metadata": {},
   "outputs": [
    {
     "data": {
      "text/plain": [
       "True"
      ]
     },
     "execution_count": 8,
     "metadata": {},
     "output_type": "execute_result"
    }
   ],
   "source": [
    "head = ListNode(4)\n",
    "head.next = ListNode(4)\n",
    "head.next.next = ListNode(5)\n",
    "head.next.next.next = head.next\n",
    "hasCycle(head)"
   ]
  },
  {
   "cell_type": "code",
   "execution_count": null,
   "id": "a727c066",
   "metadata": {},
   "outputs": [],
   "source": []
  }
 ],
 "metadata": {
  "kernelspec": {
   "display_name": "Python 3 (ipykernel)",
   "language": "python",
   "name": "python3"
  },
  "language_info": {
   "codemirror_mode": {
    "name": "ipython",
    "version": 3
   },
   "file_extension": ".py",
   "mimetype": "text/x-python",
   "name": "python",
   "nbconvert_exporter": "python",
   "pygments_lexer": "ipython3",
   "version": "3.8.0"
  }
 },
 "nbformat": 4,
 "nbformat_minor": 5
}
