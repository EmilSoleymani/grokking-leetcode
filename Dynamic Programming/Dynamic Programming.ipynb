{
 "cells": [
  {
   "cell_type": "markdown",
   "id": "2841fb27",
   "metadata": {},
   "source": [
    "# Dynamic Programming\n",
    "\n",
    "This notebook will outline the topic of **dynamic programming**, mainly following the guide from [this link](https://www.geeksforgeeks.org/dynamic-programming/).\n",
    "\n",
    "### Intro\n",
    "\n",
    "\"*Dynamic Programming is mainly an optimization over plain recursion. Wherever we see a recursive solution that has repeated calls for same inputs, we can optimize it using Dynamic Programming. The idea is to simply store the results of subproblems, so that we do not have to re-compute them when needed later. This simple optimization reduces time complexities from exponential to polynomial.*\"\n",
    "\n",
    "Dynamic Programming splits into two main types:\n",
    "\n",
    "* **Top Down Memoization**\n",
    "* **Bottom Up Tabulation**\n",
    "\n",
    "## Tabulation Method: Bottom Up DP\n",
    "\n",
    "Let `dp[x]` store the current state. To find `dp[n]`, we begin at `dp[0]` and build our way up to `dp[n]`. For example, consider the problem of calculating `n!`."
   ]
  },
  {
   "cell_type": "code",
   "execution_count": 3,
   "id": "80078900",
   "metadata": {},
   "outputs": [],
   "source": [
    "def bottomUpFactorial(n: int) -> int:\n",
    "    dp = [-1 for i in range(n+1)]    \n",
    "    dp[0] = 1\n",
    "     \n",
    "    for i in range(1, n+1):\n",
    "        dp[i] = dp[i-1] * i\n",
    "    \n",
    "    return dp[n]"
   ]
  },
  {
   "cell_type": "code",
   "execution_count": 14,
   "id": "3bfe6f84",
   "metadata": {},
   "outputs": [
    {
     "data": {
      "text/plain": [
       "362880"
      ]
     },
     "execution_count": 14,
     "metadata": {},
     "output_type": "execute_result"
    }
   ],
   "source": [
    "bottomUpFactorial(9)"
   ]
  },
  {
   "cell_type": "markdown",
   "id": "de4020f6",
   "metadata": {},
   "source": [
    "## Memoization Method – Top-Down Dynamic Programming\n",
    "\n",
    "Let `dp[x]` store the current state. To find `dp[n]`, we begin at `dp[n]` and recursively calculate previous states - caching results on the way (*memoization*). Consider the same problem of calculating `n!`."
   ]
  },
  {
   "cell_type": "code",
   "execution_count": 20,
   "id": "310638e2",
   "metadata": {},
   "outputs": [],
   "source": [
    "MAXINT = 10000000\n",
    "dp = [-1 for i in range(MAXINT)]\n",
    "\n",
    "def topDownFactorial(n: int) -> int:\n",
    "    if n < 2:\n",
    "        return 1\n",
    "    if dp[n] != -1:\n",
    "        return dp[n]\n",
    "    dp[n] = n * topDownFactorial(n-1)\n",
    "    return dp[n]\n",
    "        "
   ]
  },
  {
   "cell_type": "code",
   "execution_count": 22,
   "id": "fca8c4eb",
   "metadata": {
    "scrolled": true
   },
   "outputs": [
    {
     "data": {
      "text/plain": [
       "402387260077093773543702433923003985719374864210714632543799910429938512398629020592044208486969404800479988610197196058631666872994808558901323829669944590997424504087073759918823627727188732519779505950995276120874975462497043601418278094646496291056393887437886487337119181045825783647849977012476632889835955735432513185323958463075557409114262417474349347553428646576611667797396668820291207379143853719588249808126867838374559731746136085379534524221586593201928090878297308431392844403281231558611036976801357304216168747609675871348312025478589320767169132448426236131412508780208000261683151027341827977704784635868170164365024153691398281264810213092761244896359928705114964975419909342221566832572080821333186116811553615836546984046708975602900950537616475847728421889679646244945160765353408198901385442487984959953319101723355556602139450399736280750137837615307127761926849034352625200015888535147331611702103968175921510907788019393178114194545257223865541461062892187960223838971476088506276862967146674697562911234082439208160153780889893964518263243671616762179168909779911903754031274622289988005195444414282012187361745992642956581746628302955570299024324153181617210465832036786906117260158783520751516284225540265170483304226143974286933061690897968482590125458327168226458066526769958652682272807075781391858178889652208164348344825993266043367660176999612831860788386150279465955131156552036093988180612138558600301435694527224206344631797460594682573103790084024432438465657245014402821885252470935190620929023136493273497565513958720559654228749774011413346962715422845862377387538230483865688976461927383814900140767310446640259899490222221765904339901886018566526485061799702356193897017860040811889729918311021171229845901641921068884387121855646124960798722908519296819372388642614839657382291123125024186649353143970137428531926649875337218940694281434118520158014123344828015051399694290153483077644569099073152433278288269864602789864321139083506217095002597389863554277196742822248757586765752344220207573630569498825087968928162753848863396909959826280956121450994871701244516461260379029309120889086942028510640182154399457156805941872748998094254742173582401063677404595741785160829230135358081840096996372524230560855903700624271243416909004153690105933983835777939410970027753472000000000000000000000000000000000000000000000000000000000000000000000000000000000000000000000000000000000000000000000000000000000000000000000000000000000000000000000000000000000000000000000000000000000000000000000000000000000000000000000000000000000"
      ]
     },
     "execution_count": 22,
     "metadata": {},
     "output_type": "execute_result"
    }
   ],
   "source": [
    "topDownFactorial(1000)"
   ]
  },
  {
   "cell_type": "markdown",
   "id": "0c5b24c2",
   "metadata": {},
   "source": [
    "## Summary\n",
    "\n",
    "\n",
    "|                    |                                                                                    Bottom Up: Tabulation                                                                                   |                                            Top Down: Memoization                                           |\n",
    "|:------------------:|:------------------------------------------------------------------------------------------------------------------------------------------------------------------------------------------:|:----------------------------------------------------------------------------------------------------------:|\n",
    "|        State       |                                                                     State transition relation is difficult to realize.                                                                     |                                State transition relation is easy to realize.                               |\n",
    "|        Code        |                                                               Code gets complicated especially when there are many relations.                                                              |                                    Code is easy and not too complicated.                                   |\n",
    "|        Speed       |                                                              Fast, due to constant time operations on previous array elements.                                                             |                         Slow, due to overhead of recursive function calls on stack.                        |\n",
    "| Subproblem Solving | Will beat Top Down by a constant factor. Will calculate subproblems<br>that are not neccessarily needed, so more useful for problems where<br>we definitely need all subproblem solutions. | Useful for problems where we don't need all subproblems, since it will<br>only calculate the ones we need. |\n",
    "|    Table Entries   |                                                         Starting from first entry **all entries** are filled up to required entry.                                                         |                                Not all entries are filled, only ones needed.                               |"
   ]
  },
  {
   "cell_type": "markdown",
   "id": "3f51654c",
   "metadata": {},
   "source": [
    "# Dynamic Programming Properties\n",
    "\n",
    "Dynamic programming problems have two main properties: **optimal substructure** and **overlapping subproperties**.\n",
    "\n",
    "### Optimal Substructure\n",
    "\n",
    "A problem satisfies this property if its optimal solution can be obtained from the optimal solutions of its subproblems without having to try every possible way to solve the subproblems.\n",
    "\n",
    "* *e.g.* Shortest Path problem has the following optimal substructure property: \n",
    "\n",
    "Shortest path from source node `S` to source node `V` is the combination of the shortest path from `S` to node `X` and the shortest path from node `X` to `V` if `X` is on the shortest path from `S` to `V`. Typical solutions to single source shortest path problem like the **Bellman-Ford Algorithm** are great examples of dynamic programming.\n",
    "\n",
    "> Note: interestingly, the longest path problem is *not* a dynamic programming problem, since the optimal substructure property is not satisfied (see [this link](https://www.geeksforgeeks.org/optimal-substructure-property-in-dynamic-programming-dp-2/) for further explanation).\n",
    "\n",
    "List of common problems with optimal substructure property:\n",
    "\n",
    "* Longest common subsequence\n",
    "* Climbing stairs\n",
    "* Coin change\n",
    "* Cutting a rod\n",
    "* Fibonacci\n",
    "\n",
    "### Overlapping Subproblems\n",
    "\n",
    "Dynamic programming combines solutions to subproblems, similair to *divide and conquer*. It is mainly used when solutions to same subproblems will be needed again and again. Thus, dynamic programming is only useful when there are common (*overlapping*) subproblems. If there are no overlapping subproblems, using dynamic programming will end up storing a bunch of values that aren't needed.\n",
    "\n",
    "* *e.g.* Binary Search uses recursion like DP, however it has no overlapping subproblems, thus DP is not useful for solving it.\n",
    "\n",
    "* *e.g.* Calculating the `n`th Fibonacci number is a classic example of a DP problem, since there are many overlapping subproblems "
   ]
  },
  {
   "cell_type": "markdown",
   "id": "c81d9816",
   "metadata": {},
   "source": [
    "# Steps to Solving a Dynamic Programming Problem\n",
    "\n",
    "* Step 1: Identify if it is a Dynamic programming problem.\n",
    "* Step 2: Decide a state expression with the least parameters.\n",
    "* Step 3: Formulate the state and transition relationship.\n",
    "* Step 4: Do tabulation (or memorization).\n",
    "\n",
    "### Step 1: How to classify a problem as a Dynamic Programming Problem?\n",
    "\n",
    "Typically, any *maximization* or *minimization* problem or problems that require counting certain arrangements under certain conditions can be solved with dynamic programming. Of course, also observe that the problem satisifes the *optimal substructure* and *overlapping subproblem* properties."
   ]
  },
  {
   "cell_type": "markdown",
   "id": "3ac4c0b0",
   "metadata": {},
   "source": []
  }
 ],
 "metadata": {
  "kernelspec": {
   "display_name": "Python 3 (ipykernel)",
   "language": "python",
   "name": "python3"
  },
  "language_info": {
   "codemirror_mode": {
    "name": "ipython",
    "version": 3
   },
   "file_extension": ".py",
   "mimetype": "text/x-python",
   "name": "python",
   "nbconvert_exporter": "python",
   "pygments_lexer": "ipython3",
   "version": "3.8.0"
  }
 },
 "nbformat": 4,
 "nbformat_minor": 5
}
