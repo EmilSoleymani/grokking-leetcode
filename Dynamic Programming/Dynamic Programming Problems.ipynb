{
 "cells": [
  {
   "cell_type": "code",
   "execution_count": 2,
   "id": "13bb4293",
   "metadata": {},
   "outputs": [],
   "source": [
    "from typing import List"
   ]
  },
  {
   "cell_type": "markdown",
   "id": "c1a84e6f",
   "metadata": {},
   "source": [
    "# Problem 1: Coin Change\n",
    "\n",
    "[Leetcode #322](https://leetcode.com/problems/coin-change/description/)\n",
    "\n",
    "You are given an integer array `coins` representing coins of different denominations and an integer `amount` representing a total amount of money.\n",
    "\n",
    "Return the fewest number of coins that you need to make up that `amount`. If that amount of money cannot be made up by any combination of the `coins`, return `-1`."
   ]
  },
  {
   "cell_type": "markdown",
   "id": "9918fafd",
   "metadata": {},
   "source": [
    "# Solution\n",
    "\n",
    "Of course, the solution uses dynnamic programming. Let `dp[x]` represent the state. Initialize `dp[0]` to `0` since it takes `0` coins to make `0`, and all other entries to `amount+1` (since this will serve as an unattainable max value that will not affect the later `min` comparisons). Using a bottom-up approach (**tabulation**), we build the `dp[x]` array. We know from the *optimal substructure* property that the optimal answer for any amount `x` can be obtained from the optimal answer of previously calculated amounts. More specifcally, the optimal solution for an amount `x` is the minimum of the set of optimal solutions for all amounts `x - c` for all `c ε coins` + 1.\n",
    " \n",
    "```algorithm\n",
    "coinChange(coins, amount):\n",
    "    dp := [amount+1 for i := 0, amount+1]\n",
    "    dp[0] := 0\n",
    "    \n",
    "    for coin in coins:\n",
    "        for i := coin, amount+1:\n",
    "            dp[i] := min(dp[i], dp[i-coin] + 1)\n",
    "    \n",
    "    if dp[amount] != amount + 1:\n",
    "        return dp[amount]\n",
    "    else:\n",
    "        return -1\n",
    "```"
   ]
  },
  {
   "cell_type": "code",
   "execution_count": 3,
   "id": "7fa732ab",
   "metadata": {},
   "outputs": [],
   "source": [
    "def coinChange(coins: List[int], amount: int) -> int:\n",
    "        dp = [(amount+1)] * (amount+1)\n",
    "        dp[0] = 0\n",
    "\n",
    "        for coin in coins:\n",
    "            for i in range(coin, amount+1):\n",
    "                dp[i] = min(dp[i], dp[i-coin]+1)\n",
    "\n",
    "        return dp[amount] if dp[amount] != amount + 1 else -1"
   ]
  },
  {
   "cell_type": "markdown",
   "id": "d3435dd4",
   "metadata": {},
   "source": [
    "# Problem 2: Climbing Stairs\n",
    "\n",
    "[Leetcode #70](https://leetcode.com/problems/climbing-stairs/description/)\n",
    "\n",
    "You are climbing a staircase. It takes `n` steps to reach the top.\n",
    "\n",
    "Each time you can either climb `1` or `2` steps. In how many distinct ways can you climb to the top?"
   ]
  },
  {
   "cell_type": "markdown",
   "id": "a35622d2",
   "metadata": {},
   "source": [
    "# Solution\n",
    "\n",
    "This problem basically asks to calculate the `n`th fibonacci number. This can be achieved by bottom-up tabulation. Let `dp[x]` represent the state of `x`. Set `dp[0]` and `dp[1]` to `1`. For `i` in range `2..n+1` set `dp[i]` to `dp[i-1]+dp[i-2]`. Return `dp[n]`.\n",
    "\n",
    "```algorithm\n",
    "climbStairs(n):\n",
    "    dp := [0 for i := 0..n+1]\n",
    "    \n",
    "    dp[0] := 0\n",
    "    dp[1] := 1\n",
    "    \n",
    "    for i := 2, n+1:\n",
    "        dp[i] := dp[i-1] + dp[i-2]\n",
    "    \n",
    "    return dp[n]\n",
    "```"
   ]
  },
  {
   "cell_type": "code",
   "execution_count": 4,
   "id": "d7ff9d88",
   "metadata": {},
   "outputs": [],
   "source": [
    "def climbStairs(self, n: int) -> int:\n",
    "        dp = [0] * (n+1)\n",
    "\n",
    "        dp[0] = 1\n",
    "        dp[1] = 1\n",
    "\n",
    "        for i in range(2, n+1):\n",
    "            dp[i] = dp[i-1] + dp[i-2]\n",
    "        \n",
    "        return dp[n]"
   ]
  }
 ],
 "metadata": {
  "kernelspec": {
   "display_name": "Python 3 (ipykernel)",
   "language": "python",
   "name": "python3"
  },
  "language_info": {
   "codemirror_mode": {
    "name": "ipython",
    "version": 3
   },
   "file_extension": ".py",
   "mimetype": "text/x-python",
   "name": "python",
   "nbconvert_exporter": "python",
   "pygments_lexer": "ipython3",
   "version": "3.8.0"
  }
 },
 "nbformat": 4,
 "nbformat_minor": 5
}
