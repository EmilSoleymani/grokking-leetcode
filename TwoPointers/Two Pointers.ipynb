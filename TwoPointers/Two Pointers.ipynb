{
 "cells": [
  {
   "cell_type": "markdown",
   "id": "ee616543",
   "metadata": {},
   "source": [
    "# Leetcode Two Pointer Problems"
   ]
  },
  {
   "cell_type": "code",
   "execution_count": 2,
   "id": "e18a8883",
   "metadata": {},
   "outputs": [],
   "source": [
    "from typing import List  # For typing in all solutions"
   ]
  },
  {
   "cell_type": "markdown",
   "id": "0c6bfc99",
   "metadata": {},
   "source": [
    "# Problem 1: Remove Duplicates from Sorted Array\n",
    "\n",
    "[Leetcode #26](https://leetcode.com/problems/remove-duplicates-from-sorted-array/description/)\n",
    "\n",
    "Given an integer array `nums` sorted in non-decreasing order, remove the duplicates in-place such that each unique element appears only once. The relative order of the elements should be kept the same."
   ]
  },
  {
   "cell_type": "markdown",
   "id": "3307a492",
   "metadata": {},
   "source": [
    "## My Solution (Beats 91% of solutions in runtime and 96% in memory)\n",
    "\n",
    "Using the *two pointer* method, keep a pointer `left` and `right`, both initialized to 0. While `right` is less than `N`, if `nums[left] != nums[right]`, we have seen a new number so set `nums[left+1]` to `nums[right]` and increment `left`. At the end of loop, increment `right`. Return `left+1`.\n",
    "\n",
    "```algorithm\n",
    "removeDuplicates(nums):\n",
    "    left, right := 0\n",
    "    \n",
    "    while right < N:\n",
    "        if nums[left] != nums[right]:\n",
    "            nums[left+1] = nums[right]\n",
    "            left := left + 1\n",
    "        right := right + 1\n",
    "    \n",
    "    return left+1\n",
    "```"
   ]
  },
  {
   "cell_type": "code",
   "execution_count": 3,
   "id": "2290b6ac",
   "metadata": {},
   "outputs": [],
   "source": [
    "def removeDuplicates(nums: List[int]) -> int:\n",
    "        N = len(nums)\n",
    "\n",
    "        left, right = 0, 0\n",
    "\n",
    "        while right < N:\n",
    "            if nums[left] != nums[right]:\n",
    "                nums[left+1] = nums[right]\n",
    "                left += 1\n",
    "            right += 1\n",
    "        \n",
    "        return left+1"
   ]
  },
  {
   "cell_type": "code",
   "execution_count": 6,
   "id": "769f022d",
   "metadata": {},
   "outputs": [
    {
     "name": "stdout",
     "output_type": "stream",
     "text": [
      "5\n",
      "[1, 3, 5, 6, 7]\n"
     ]
    }
   ],
   "source": [
    "a = [1, 1, 3, 5, 5, 5, 5, 6, 6, 7]\n",
    "n = removeDuplicates(a)\n",
    "print(n)\n",
    "print(a[:n])"
   ]
  },
  {
   "cell_type": "markdown",
   "id": "709ed3ff",
   "metadata": {},
   "source": [
    "# Problem 2: Squares of a Sorted Array\n",
    "\n",
    "[Leetcode #977](https://leetcode.com/problems/squares-of-a-sorted-array/description/)\n",
    "\n",
    "Given an integer array `nums` sorted in non-decreasing order, return an array of the squares of each number sorted in non-decreasing order."
   ]
  },
  {
   "cell_type": "markdown",
   "id": "ec6b9c3e",
   "metadata": {},
   "source": [
    "## Solution (Beats 83% of solutions by performance, 50% by memory)\n",
    "\n",
    "Keep two pointers, `left` and `right`. `left` is initialized to `0` while `right` is initialized to `N-1`. Initialize an array with `N` integers. Loop for `i` in the range `[0 .. N-1]` __*BACKWARDS*__. At each step, if `|nums[left]| < |nums[right]|` then set `squares[i]` to `nums[right]^2` and decrement `right`. Else, set `squares[i]` to `nums[left]^2` and decrement `left`. At the end, return `squares`.\n",
    "\n",
    "```algorithm\n",
    "sortedSquares(nums):\n",
    "    left, right := 0, N-1\n",
    "    squares = [0 for i := 0 .. N-1]\n",
    "    \n",
    "    for i := 0 .. N-1 backwards:\n",
    "        if |nums[left]| < |nums[right]|:\n",
    "            squares[i] := nums[right] * nums[right]\n",
    "            right := right - 1\n",
    "        else:\n",
    "            squares[i] := nums[left] * nums[left]\n",
    "            left := left + 1\n",
    "    \n",
    "    return squares\n",
    "```"
   ]
  },
  {
   "cell_type": "code",
   "execution_count": 8,
   "id": "7fc8294d",
   "metadata": {},
   "outputs": [],
   "source": [
    "def sortedSquares(nums: List[int]) -> List[int]:\n",
    "        N = len(nums)\n",
    "\n",
    "        left, right = 0, N - 1\n",
    "        squares = [0 for i in range(N)]\n",
    "\n",
    "        for i in range(N-1, -1, -1):\n",
    "            if abs(nums[left]) < abs(nums[right]):\n",
    "                squares[i] = nums[right] ** 2\n",
    "                right -= 1\n",
    "            else:\n",
    "                squares[i] = nums[left] ** 2\n",
    "                left += 1\n",
    "\n",
    "        return squares"
   ]
  },
  {
   "cell_type": "code",
   "execution_count": 10,
   "id": "4f9134e2",
   "metadata": {
    "scrolled": true
   },
   "outputs": [
    {
     "name": "stdout",
     "output_type": "stream",
     "text": [
      "[0, 4, 9, 16, 25]\n"
     ]
    }
   ],
   "source": [
    "a = [-4, -3, 0, 2, 5]\n",
    "print(sortedSquares(a))"
   ]
  },
  {
   "cell_type": "markdown",
   "id": "aefdf5e0",
   "metadata": {},
   "source": [
    "# Problem 3: Two Sum II\n",
    "\n",
    "[Leetcode #167](https://leetcode.com/problems/two-sum-ii-input-array-is-sorted/description/)\n",
    "\n",
    "> Note: Original <u>Two Sum</u> just asks to return `true` if such a pair exists, and is not given in a sorted order.\n",
    "\n",
    "Given a 1-indexed array of integers `numbers` that is already sorted in non-decreasing order, find two numbers such that they add up to a specific `target` number. Let these two numbers be `numbers[index1]` and `numbers[index2]` where `1 <= index1 < index2 <= numbers.length`.\n",
    "\n",
    "Return the indices of the two numbers, `index1` and `index2`, __added by one__ as an integer array `[index1, index2]` of length 2."
   ]
  },
  {
   "cell_type": "markdown",
   "id": "4e2d7c7b",
   "metadata": {},
   "source": [
    "## Solution\n",
    "\n",
    "Use two pointers, `left` and `right`, initialized to `0` and `N-1` respectively. While `left` is less than `right`, calculate `sum` as `nums[left] + nums[right]`. If `sum == target` then return `[left+1, right+1]`, else if `sum < target` increment `left`, else increment `right`.\n",
    "\n",
    "```algorithm\n",
    "twoSum(nums, target):\n",
    "    left, right := 0, 0\n",
    "    \n",
    "    while left < right:\n",
    "        sum := nums[left] + nums[right]\n",
    "        \n",
    "        if sum == target:\n",
    "            return [left+1, right+1]\n",
    "        else if sum < target:\n",
    "            left := left + 1\n",
    "        else:\n",
    "            right := right - 1\n",
    "```"
   ]
  },
  {
   "cell_type": "markdown",
   "id": "526f9536",
   "metadata": {},
   "source": [
    "# Problem 4: Three Sum\n",
    "\n",
    "[Leetcode #15](https://leetcode.com/problems/3sum/)\n",
    "\n",
    "\n",
    "Given an integer array `nums`, return all the triplets `[nums[i], nums[j], nums[k]]` such that `i != j`, `i != k`, and `j != k`, and `nums[i] + nums[j] + nums[k] == 0`. Notice that the solution set must not contain duplicate triplets."
   ]
  },
  {
   "cell_type": "markdown",
   "id": "711419c1",
   "metadata": {},
   "source": [
    "## Solution\n",
    "\n",
    "In order to solve this problem, we need to borrow from the solution of `Two Sum II`. We will first sort the `nums` array, and initialize a `triplets` array. Loop through all the numbers, and break the loop once we reach a number > 0 since no numbers past this point can sum to `0`. For each number, if it is different than the previous entry (since the array is sorted all duplicates will be adjacent) use it as a *pivot* in the two sum helper function. Return `triplets`\n",
    "\n",
    "The two sum helper function takes arguments `nums`, `pivot` and `triplets`. It initializes the `left` pointer to `pivot+1` and the right pointer to `N-1`. While `left < right` it calculates `sum` as `nums[pivot] + nums[left] + nums[right]`. If `sum == 0`, append `[nums[pivot], nums[left], nums[right]]` to `triplets` while decrementing `right` and incrementing `left` (also, increment `left` while `left < right` and `nums[left-1] == nums[left]` in order to skip all duplicates). Else, if `sum < 0` increment `left` else decrement `right`.\n",
    "\n",
    "\n",
    "```algorithm\n",
    "twoSum(nums, pivot, triplets):\n",
    "    left, right := pivot + 1, N - 1\n",
    "    \n",
    "    while left < right:\n",
    "        sum := nums[pivot] + nums[left] + nums[right]\n",
    "        \n",
    "        if sum == 0:\n",
    "            triplets.append([nums[pivot], nums[left], nums[right]])\n",
    "            right := right - 1\n",
    "            left := left + 1\n",
    "            while left < right && nums[left] == nums[left-1]:\n",
    "                left := left + 1\n",
    "        else if sum < 0:\n",
    "            left := left + 1\n",
    "        else:\n",
    "            right := right - 1\n",
    "\n",
    "\n",
    "threeSum(nums):\n",
    "    sort nums\n",
    "    \n",
    "    triplets := []\n",
    "    \n",
    "    for i := 0 .. N-1:\n",
    "        if nums[i] > 0:\n",
    "            break\n",
    "        if i == 0 || nums[i-1] != nums[i]:\n",
    "            twoSum(nums, i, triplets)\n",
    "    \n",
    "    return triplets\n",
    "```"
   ]
  },
  {
   "cell_type": "code",
   "execution_count": 13,
   "id": "8729a18e",
   "metadata": {},
   "outputs": [],
   "source": [
    "def twoSum(nums, pivot, triplets):\n",
    "    left, right = pivot+1, len(nums)-1\n",
    "\n",
    "    while left < right:\n",
    "        s = nums[pivot] + nums[left] + nums[right]\n",
    "\n",
    "        if s == 0:\n",
    "            triplets.append([nums[pivot], nums[left], nums[right]])\n",
    "            left += 1\n",
    "            right -= 1\n",
    "            while left < right and nums[left] == nums[left-1]:\n",
    "                left += 1\n",
    "        elif s < 0:\n",
    "            left += 1\n",
    "        else:\n",
    "            right -= 1\n",
    "\n",
    "def threeSum(nums: List[int]) -> List[List[int]]:\n",
    "    triplets = []\n",
    "    nums.sort()\n",
    "\n",
    "    for i in range(len(nums)):\n",
    "        if nums[i] > 0:\n",
    "            break\n",
    "        if i == 0 or nums[i] != nums[i-1]:\n",
    "            twoSum(nums, i, triplets)\n",
    "\n",
    "    return triplets"
   ]
  },
  {
   "cell_type": "code",
   "execution_count": 14,
   "id": "c193d77a",
   "metadata": {},
   "outputs": [
    {
     "name": "stdout",
     "output_type": "stream",
     "text": [
      "[[-1, -1, 2], [-1, 0, 1]]\n"
     ]
    }
   ],
   "source": [
    "a = [-1,0,1,2,-1,-4]\n",
    "print(threeSum(a))"
   ]
  },
  {
   "cell_type": "markdown",
   "id": "b829286a",
   "metadata": {},
   "source": [
    "# Problem 5: Three Sum Closest\n",
    "\n",
    "[Leetcode #16](https://leetcode.com/problems/3sum-closest/description/)\n",
    "\n",
    "Given an integer array `nums` of length `n` and an integer `target`, find three integers in `nums` such that the sum is closest to `target`. Return the sum of the three integers."
   ]
  },
  {
   "cell_type": "markdown",
   "id": "f20b91a9",
   "metadata": {},
   "source": [
    "## Solution\n",
    "\n",
    "Similair to `Three Sum` but simpler. Sort the `nums` array. Initialize `closest` to infinity. For `i` in range `[0, N-1]`, initialize `left` and `right` pointers to `i+1` and `N-1` respectively. While `left < right` calculate `sum` as `nums[i] + nums[left] + nums[right]`. If `abs(target - s) < abs(closest)` update `closest` to `s` and break the loop if `closest == 0`. If `s < target` increment `left` else decrement `right`. Return `closest`\n",
    "\n",
    "```algorithm\n",
    "threeSumClosest(nums, target):\n",
    "    closest := infinity\n",
    "    sort nums\n",
    "    \n",
    "    for i := 0 .. N-1:\n",
    "        left, right := i + 1, N - 1\n",
    "        \n",
    "        while left < right:\n",
    "            s = nums[i] + nums[left] + nums[right]\n",
    "            \n",
    "            if |target - s| < |closest|:\n",
    "                closest = s\n",
    "                if closest == 0:\n",
    "                    break\n",
    "            \n",
    "            if s < target:\n",
    "                left := left + 1\n",
    "            else:\n",
    "                right := right - 1\n",
    "        \n",
    "        return closest\n",
    "```"
   ]
  },
  {
   "cell_type": "code",
   "execution_count": 15,
   "id": "bcca7044",
   "metadata": {},
   "outputs": [],
   "source": [
    "def threeSumClosest(nums: List[int], target: int) -> int:\n",
    "        closest = float('inf')\n",
    "        nums.sort()\n",
    "\n",
    "        for i in range(len(nums)):\n",
    "            left, right = i + 1, len(nums) - 1\n",
    "\n",
    "            while left < right:\n",
    "                s = nums[i] + nums[left] + nums[right]\n",
    "\n",
    "                if abs(target - s) < abs(closest):\n",
    "                    closest = target - s\n",
    "                    if closest == 0:\n",
    "                        break\n",
    "                \n",
    "                if s < target:\n",
    "                    left += 1\n",
    "                else:\n",
    "                    right -= 1\n",
    "\n",
    "        return target - closest"
   ]
  },
  {
   "cell_type": "code",
   "execution_count": 16,
   "id": "59349e82",
   "metadata": {},
   "outputs": [
    {
     "data": {
      "text/plain": [
       "2"
      ]
     },
     "execution_count": 16,
     "metadata": {},
     "output_type": "execute_result"
    }
   ],
   "source": [
    "n = [-1,2,1,-4]\n",
    "k = 1\n",
    "threeSumClosest(n, k)"
   ]
  },
  {
   "cell_type": "markdown",
   "id": "86772d05",
   "metadata": {},
   "source": [
    "# Problem 6: Three Sum Smaller\n",
    "\n",
    "[Leetcode #259](https://leetcode.com/problems/3sum-smaller/description/)\n",
    "\n",
    "Given an array of `n` integers `nums` and an integer `target`, find the number of index triplets `i, j, k` with `0 <= i < j < k < n` that satisfy the condition `nums[i] + nums[j] + nums[k] < target`."
   ]
  },
  {
   "cell_type": "markdown",
   "id": "abfe0749",
   "metadata": {},
   "source": [
    "# My Solution\n",
    "\n",
    "First sort the array. Initialize `smaller` to `0`. Loop for `i` in range `[0 .. N-2]`. Set `left` and `right` to `i+1` and `N-1` respectively. While `left < right`, if `nums[i] + nums[left] + nums[right] < target`, then choosing all numbers in the range `[left, right]` will have a three sum less than target, so increment `smaller` by `right-left`, and increment `left`. Else, we want to lower the sum so decrement `right`. Return `smaller`.\n",
    "\n",
    "```algorithm\n",
    "threeSumSmaller(nums, target):\n",
    "    smaller := 0\n",
    "    sort nums\n",
    "    \n",
    "    for i := 0 .. N-2:\n",
    "        left, right := i+1, N-1\n",
    "        \n",
    "        while left < right:\n",
    "            if nums[i] + nums[left] + nums[right] < target:\n",
    "                smaller := smaller + right - left\n",
    "                left := left + 1\n",
    "            else:\n",
    "                right := right - 1\n",
    "    \n",
    "    return smaller\n",
    "```"
   ]
  },
  {
   "cell_type": "code",
   "execution_count": 17,
   "id": "fccf7b80",
   "metadata": {},
   "outputs": [],
   "source": [
    "def threeSumSmaller(nums: List[int], target: int) -> int:\n",
    "        nums.sort()\n",
    "        N = len(nums)\n",
    "\n",
    "        if N < 3:\n",
    "            return 0\n",
    "\n",
    "        smaller = 0\n",
    "\n",
    "        for i in range(N-2):\n",
    "            left, right = i + 1, N - 1\n",
    "\n",
    "            while left < right:\n",
    "                if nums[i] + nums[left] + nums[right] < target:\n",
    "                    smaller += right - left\n",
    "                    left += 1\n",
    "                else:\n",
    "                    right -= 1\n",
    "        \n",
    "        return smaller"
   ]
  },
  {
   "cell_type": "code",
   "execution_count": 18,
   "id": "8f8a66a1",
   "metadata": {},
   "outputs": [
    {
     "data": {
      "text/plain": [
       "2"
      ]
     },
     "execution_count": 18,
     "metadata": {},
     "output_type": "execute_result"
    }
   ],
   "source": [
    "n = [-2,0,1,3]\n",
    "k = 2\n",
    "threeSumSmaller(n, k)"
   ]
  },
  {
   "cell_type": "markdown",
   "id": "687f099a",
   "metadata": {},
   "source": [
    "# Problem 7: Sort Colors (Dutch National Flag Problem)\n",
    "\n",
    "> Note: This problem has applications in 3-way quicksort\n",
    "\n",
    "[Leetcode #75](Sort Colors)\n",
    "\n",
    "Given an array nums with `n` objects colored red, white, or blue, sort them in-place so that objects of the same color are adjacent, with the colors in the order red, white, and blue.\n",
    "\n",
    "We will use the integers `0`, `1`, and `2` to represent the color red, white, and blue, respectively.\n",
    "\n",
    "You must solve this problem without using the library's sort function."
   ]
  },
  {
   "cell_type": "markdown",
   "id": "73479695",
   "metadata": {},
   "source": [
    "## Solution (Beats 92% of solutions in performance)\n",
    "\n",
    "Keep pointers `left` and `right` initialized to `0` to `N-1`, and `curr` initialized to `0`. While `curr <= right`, swap `nums[curr]` and `nums[left]` if `nums[curr] == 0` and increment both `curr` and `left`, else if `nums[curr] == 2` swap `nums[curr]` and `nums[right]` and decrement `right`. Else, just decrement `curr`.\n",
    "\n",
    "```algorithm\n",
    "sortColors(nums):\n",
    "    left, curr, right := 0, 0, N-1\n",
    "    \n",
    "    while curr <= right:\n",
    "        if nums[curr] == 0:\n",
    "            swap(nums[curr], nums[left])\n",
    "            left := left + 1\n",
    "            curr := curr + 1\n",
    "        else if nums[curr] == 2:\n",
    "            swap(nums[curr], nums[right])\n",
    "            right := right - 1\n",
    "        else:\n",
    "            curr := curr + 1\n",
    "```"
   ]
  },
  {
   "cell_type": "code",
   "execution_count": 19,
   "id": "505a7c82",
   "metadata": {},
   "outputs": [],
   "source": [
    "def sortColors(nums: List[int]) -> None:\n",
    "        \"\"\"\n",
    "        Do not return anything, modify nums in-place instead.\n",
    "        \"\"\"\n",
    "        N = len(nums)\n",
    "        left, right = 0, N-1\n",
    "        curr = 0\n",
    "\n",
    "        while curr <= right:\n",
    "            if nums[curr] == 0:\n",
    "                nums[left], nums[curr] = nums[curr], nums[left]\n",
    "                curr += 1\n",
    "                left += 1\n",
    "            elif nums[curr] == 2:\n",
    "                nums[right], nums[curr] = nums[curr], nums[right]\n",
    "                right -= 1\n",
    "            else:\n",
    "                curr += 1"
   ]
  }
 ],
 "metadata": {
  "kernelspec": {
   "display_name": "Python 3 (ipykernel)",
   "language": "python",
   "name": "python3"
  },
  "language_info": {
   "codemirror_mode": {
    "name": "ipython",
    "version": 3
   },
   "file_extension": ".py",
   "mimetype": "text/x-python",
   "name": "python",
   "nbconvert_exporter": "python",
   "pygments_lexer": "ipython3",
   "version": "3.8.0"
  }
 },
 "nbformat": 4,
 "nbformat_minor": 5
}
